{
 "cells": [
  {
   "cell_type": "code",
   "execution_count": 96,
   "metadata": {},
   "outputs": [],
   "source": [
    "\n",
    "from gensim.models import Word2Vec\n",
    "from gensim.models import Phrases\n",
    "from gensim.models.phrases import Phraser\n",
    "import pandas as pd \n",
    "import os\n",
    "\n",
    "os.chdir('C:/Users/Wendy/Documents/the_finalbot/diabetes_chatbot/data_rasa')\n",
    "#pd.set_option('display.max_colwidth', None)"
   ]
  },
  {
   "cell_type": "code",
   "execution_count": 100,
   "metadata": {},
   "outputs": [],
   "source": [
    "def read_csvs(directory):\n",
    "    dataframes = []\n",
    "    for filename in os.listdir(directory):\n",
    "        if filename.endswith(\".csv\"):\n",
    "            filepath = os.path.join(directory, filename)\n",
    "            dataframes.append(pd.read_csv(filepath))\n",
    "    return pd.concat(dataframes, ignore_index=True)\n"
   ]
  },
  {
   "cell_type": "code",
   "execution_count": 103,
   "metadata": {},
   "outputs": [],
   "source": [
    "final = read_csvs('C:/Users/Wendy/Documents/the_finalbot/diabetes_chatbot/data_rasa')\n"
   ]
  },
  {
   "cell_type": "code",
   "execution_count": 104,
   "metadata": {},
   "outputs": [
    {
     "data": {
      "text/html": [
       "<div>\n",
       "<style scoped>\n",
       "    .dataframe tbody tr th:only-of-type {\n",
       "        vertical-align: middle;\n",
       "    }\n",
       "\n",
       "    .dataframe tbody tr th {\n",
       "        vertical-align: top;\n",
       "    }\n",
       "\n",
       "    .dataframe thead th {\n",
       "        text-align: right;\n",
       "    }\n",
       "</style>\n",
       "<table border=\"1\" class=\"dataframe\">\n",
       "  <thead>\n",
       "    <tr style=\"text-align: right;\">\n",
       "      <th></th>\n",
       "      <th>question</th>\n",
       "      <th>answer</th>\n",
       "    </tr>\n",
       "  </thead>\n",
       "  <tbody>\n",
       "    <tr>\n",
       "      <th>0</th>\n",
       "      <td>Is honey ok to use if I have diabetes, and in what proportion? Or should I try something like Stevia or Swerve?</td>\n",
       "      <td>Table sugar and honey were added to the ADA’s list of food choices many years ago, when nutrition research determined that a carbohydrate is a carbohydrate. This was at the same time that rapid-acting insulin came to market, which allowed much more flexibility in the diet. For an easy comparison, one tablespoon of honey or table sugar equals 15 grams of carbohydrate, and affects blood sugar the same as a medium orange. Honey can be a carbohydrate choice as part of a balanced snack, such as using a teaspoon with plain Greek yogurt, which adds the equivalent of 5 grams of carbohydrate. If you want to save your calorie and carbohydrate budget for a meal, you can use a sugar substitute that is calorie free. The choice is yours!</td>\n",
       "    </tr>\n",
       "    <tr>\n",
       "      <th>1</th>\n",
       "      <td>What are the nutritional recommendations for individuals (adults) with type 1 diabetes in terms of daily carbohydrate intake? How does this mesh (if at all) with low-carb diets?</td>\n",
       "      <td>The meal plan recommendations for people with type 1 diabetes are individualized, and yes, some people choose a low-carb diet or even a very low-carb diet. When it comes to diabetes, carbohydrate is looked at per meal and snack, not per day. This is because an insulin bolus needs to be taken when carbohydrate is consumed, unless one is treating a low blood sugar. Sugar Surfing is a method that one noted endocrinologist uses to manage blood sugar based on carbs consumed at a meal. You can learn more at sugarsurfing.com.</td>\n",
       "    </tr>\n",
       "    <tr>\n",
       "      <th>2</th>\n",
       "      <td>If I have a beer, do I need to count the carbs in it? I usually do but I heard something about alcohol making you go low.</td>\n",
       "      <td>NaN</td>\n",
       "    </tr>\n",
       "    <tr>\n",
       "      <th>3</th>\n",
       "      <td>I read that cottage cheese is a good snack to eat. Are there other alternatives because I don’t like cottage cheese.</td>\n",
       "      <td>Cottage cheese is a nutrient-dense food, but it doesn’t have magical properties. If you are looking for a protein alternative for cottage cheese, you might like a cheese stick, lean lunch meat, hardboiled egg, nut butter, or beef jerky.</td>\n",
       "    </tr>\n",
       "    <tr>\n",
       "      <th>4</th>\n",
       "      <td>What type of foods prevent a blood sugar spike after meals?</td>\n",
       "      <td>You may not be able to prevent a blood sugar spike after meals if you do not have enough insulin or medication on board at mealtime. If your medications are in order, eating high-fiber foods and limiting carbohydrate intake will help prevent a spike. Also, including a small amount of healthy fat can help to stabilize blood sugar.</td>\n",
       "    </tr>\n",
       "    <tr>\n",
       "      <th>...</th>\n",
       "      <td>...</td>\n",
       "      <td>...</td>\n",
       "    </tr>\n",
       "    <tr>\n",
       "      <th>108</th>\n",
       "      <td>What is the best way to test for type 1 diabetes? Is there a chance that a blood test is wrong?</td>\n",
       "      <td>Type 1 diabetes means that without taking insulin, you cannot live. There are those who still produce some insulin, but not at sufficient amounts so to control their blood sugars without taking insulin. This is referred to as type 1.5 diabetes. Your physician can order a C-Peptide test which can give you some idea of how much insulin your pancreas is producing. Type 1 diabetes often comes on fast and strong, with rapid weight loss, thirst, frequent urination, then stabilizes for a period until the cells stop insulin production. Type 2 diabetes is much more common than type 1.</td>\n",
       "    </tr>\n",
       "    <tr>\n",
       "      <th>109</th>\n",
       "      <td>How does diabetes affect your mood and thinking process?</td>\n",
       "      <td>With or without diabetes, when blood sugars are not in balance, fatigue, dizziness, \"fuzzy\" thinking, mood swings, and other symptoms may result. With insulin-requiring diabetes, this can be an even greater challenge to maintain stable blood sugars, but is very achievable with the right monitoring and support. Having a disease like diabetes does provide greater challenges for stable health and moods, but does not negate the ability to attain and maintain them.</td>\n",
       "    </tr>\n",
       "    <tr>\n",
       "      <th>110</th>\n",
       "      <td>Will losing a large amount of weight help me to avoid the diabetes that runs in my family? I am 19 years old and very overweight. I recently took my blood sugar a few times and the results scared me: 170 when I woke up.</td>\n",
       "      <td>Changing your lifestyle which will ultimately result in body composition changes and weight reduction can certainly keep diabetes in check. You surely have a wake-up call, and now is the time to get guidance in eating and begin a regular exercise program. Be most dedicated to yourself now, as 170 fasting would indicate diabetes. With perseverance, you can stay in control.</td>\n",
       "    </tr>\n",
       "    <tr>\n",
       "      <th>111</th>\n",
       "      <td>Can a type 2 diabetic become a type 1 diabetic after several years and how can I find out? My recent blood test showed that my pancreas is 1.5 and I understand this is very low.</td>\n",
       "      <td>Yes, you can become type 1 after years of being type 2. What this would mean is that you cannot live without taking insulin. It sounds as though you had a C-Peptide test, and discovered that your insulin reserves are low. If you have a practitioner in your area who understands nutritional therapies, this may help preserve and improve what insulin production you have. Eat whole, unrefined, organic foods as much as possible. Stay active, and work on the \"tough\" one: stress reduction.</td>\n",
       "    </tr>\n",
       "    <tr>\n",
       "      <th>112</th>\n",
       "      <td>I have type 1 diabetes. What are the chances that my child will develop type 1 as well?</td>\n",
       "      <td>While there is a genetic component to type 1 diabetes, environmental factors play a role as well. Research suggests that genes account for less than halfthe risk for developing type 1 diabetes. 90% of children who develop type 1 diabetes do not have a relative with this disease and it is reported that only 15% of people with type 1 diabetes have a first-degree relative, such as a parent, with diabetes. There are certain genes called HLA markers associated with diabetes risk which can be identified at birth. Research is ongoing and very active in the field of diabetes and genetic markers soupdated information could be available in the near future.</td>\n",
       "    </tr>\n",
       "  </tbody>\n",
       "</table>\n",
       "<p>113 rows × 2 columns</p>\n",
       "</div>"
      ],
      "text/plain": [
       "                                                                                                                                                                                                                         question  \\\n",
       "0                                                                                                                 Is honey ok to use if I have diabetes, and in what proportion? Or should I try something like Stevia or Swerve?   \n",
       "1                                               What are the nutritional recommendations for individuals (adults) with type 1 diabetes in terms of daily carbohydrate intake? How does this mesh (if at all) with low-carb diets?   \n",
       "2                                                                                                       If I have a beer, do I need to count the carbs in it? I usually do but I heard something about alcohol making you go low.   \n",
       "3                                                                                                            I read that cottage cheese is a good snack to eat. Are there other alternatives because I don’t like cottage cheese.   \n",
       "4                                                                                                                                                                     What type of foods prevent a blood sugar spike after meals?   \n",
       "..                                                                                                                                                                                                                            ...   \n",
       "108                                                                                                                               What is the best way to test for type 1 diabetes? Is there a chance that a blood test is wrong?   \n",
       "109                                                                                                                                                                      How does diabetes affect your mood and thinking process?   \n",
       "110  Will losing a large amount of weight help me to avoid the diabetes that runs in my family? I am 19 years old and very overweight. I recently took my blood sugar a few times and the results scared me: 170 when I woke up.    \n",
       "111                                             Can a type 2 diabetic become a type 1 diabetic after several years and how can I find out? My recent blood test showed that my pancreas is 1.5 and I understand this is very low.   \n",
       "112                                                                                                                                       I have type 1 diabetes. What are the chances that my child will develop type 1 as well?   \n",
       "\n",
       "                                                                                                                                                                                                                                                                                                                                                                                                                                                                                                                                                                                                                                                                                                                                                            answer  \n",
       "0    Table sugar and honey were added to the ADA’s list of food choices many years ago, when nutrition research determined that a carbohydrate is a carbohydrate. This was at the same time that rapid-acting insulin came to market, which allowed much more flexibility in the diet. For an easy comparison, one tablespoon of honey or table sugar equals 15 grams of carbohydrate, and affects blood sugar the same as a medium orange. Honey can be a carbohydrate choice as part of a balanced snack, such as using a teaspoon with plain Greek yogurt, which adds the equivalent of 5 grams of carbohydrate. If you want to save your calorie and carbohydrate budget for a meal, you can use a sugar substitute that is calorie free. The choice is yours!  \n",
       "1                                                                                                                                                                                                                     The meal plan recommendations for people with type 1 diabetes are individualized, and yes, some people choose a low-carb diet or even a very low-carb diet. When it comes to diabetes, carbohydrate is looked at per meal and snack, not per day. This is because an insulin bolus needs to be taken when carbohydrate is consumed, unless one is treating a low blood sugar. Sugar Surfing is a method that one noted endocrinologist uses to manage blood sugar based on carbs consumed at a meal. You can learn more at sugarsurfing.com.  \n",
       "2                                                                                                                                                                                                                                                                                                                                                                                                                                                                                                                                                                                                                                                                                                                                                              NaN  \n",
       "3                                                                                                                                                                                                                                                                                                                                                                                                                                                                                                                     Cottage cheese is a nutrient-dense food, but it doesn’t have magical properties. If you are looking for a protein alternative for cottage cheese, you might like a cheese stick, lean lunch meat, hardboiled egg, nut butter, or beef jerky.  \n",
       "4                                                                                                                                                                                                                                                                                                                                                                                                                      You may not be able to prevent a blood sugar spike after meals if you do not have enough insulin or medication on board at mealtime. If your medications are in order, eating high-fiber foods and limiting carbohydrate intake will help prevent a spike. Also, including a small amount of healthy fat can help to stabilize blood sugar.  \n",
       "..                                                                                                                                                                                                                                                                                                                                                                                                                                                                                                                                                                                                                                                                                                                                                             ...  \n",
       "108                                                                                                                                                         Type 1 diabetes means that without taking insulin, you cannot live. There are those who still produce some insulin, but not at sufficient amounts so to control their blood sugars without taking insulin. This is referred to as type 1.5 diabetes. Your physician can order a C-Peptide test which can give you some idea of how much insulin your pancreas is producing. Type 1 diabetes often comes on fast and strong, with rapid weight loss, thirst, frequent urination, then stabilizes for a period until the cells stop insulin production. Type 2 diabetes is much more common than type 1.  \n",
       "109                                                                                                                                                                                                                                                                               With or without diabetes, when blood sugars are not in balance, fatigue, dizziness, \"fuzzy\" thinking, mood swings, and other symptoms may result. With insulin-requiring diabetes, this can be an even greater challenge to maintain stable blood sugars, but is very achievable with the right monitoring and support. Having a disease like diabetes does provide greater challenges for stable health and moods, but does not negate the ability to attain and maintain them.  \n",
       "110                                                                                                                                                                                                                                                                                                                                                                         Changing your lifestyle which will ultimately result in body composition changes and weight reduction can certainly keep diabetes in check. You surely have a wake-up call, and now is the time to get guidance in eating and begin a regular exercise program. Be most dedicated to yourself now, as 170 fasting would indicate diabetes. With perseverance, you can stay in control.  \n",
       "111                                                                                                                                                                                                                                                         Yes, you can become type 1 after years of being type 2. What this would mean is that you cannot live without taking insulin. It sounds as though you had a C-Peptide test, and discovered that your insulin reserves are low. If you have a practitioner in your area who understands nutritional therapies, this may help preserve and improve what insulin production you have. Eat whole, unrefined, organic foods as much as possible. Stay active, and work on the \"tough\" one: stress reduction.  \n",
       "112                                                                                 While there is a genetic component to type 1 diabetes, environmental factors play a role as well. Research suggests that genes account for less than halfthe risk for developing type 1 diabetes. 90% of children who develop type 1 diabetes do not have a relative with this disease and it is reported that only 15% of people with type 1 diabetes have a first-degree relative, such as a parent, with diabetes. There are certain genes called HLA markers associated with diabetes risk which can be identified at birth. Research is ongoing and very active in the field of diabetes and genetic markers soupdated information could be available in the near future.  \n",
       "\n",
       "[113 rows x 2 columns]"
      ]
     },
     "execution_count": 104,
     "metadata": {},
     "output_type": "execute_result"
    }
   ],
   "source": [
    "final"
   ]
  },
  {
   "attachments": {},
   "cell_type": "markdown",
   "metadata": {},
   "source": []
  },
  {
   "cell_type": "code",
   "execution_count": 105,
   "metadata": {},
   "outputs": [],
   "source": [
    "class dataUnderstanding(object):\n",
    "    \"\"\" Data Understanding class\"\"\"\n",
    "    \n",
    "    def __init__(self, df):\n",
    "        self.shape = df.shape\n",
    "        self.info = df.info\n",
    "        self.duplicates = df.duplicated().sum()\n",
    "        self.missing = df.isna().sum()\n",
    "        self.dtypes = df.dtypes"
   ]
  },
  {
   "cell_type": "code",
   "execution_count": 106,
   "metadata": {},
   "outputs": [],
   "source": [
    "# Instantiate the class\n",
    "understanding = dataUnderstanding(final)"
   ]
  },
  {
   "cell_type": "code",
   "execution_count": null,
   "metadata": {},
   "outputs": [],
   "source": [
    "#shape of data\n",
    "print(f'The data has a shape of {understanding.shape[0]} rows and {understanding.shape[1]} columns')"
   ]
  },
  {
   "cell_type": "code",
   "execution_count": null,
   "metadata": {},
   "outputs": [],
   "source": [
    "#summary of dataframe\n",
    "understanding.info()"
   ]
  },
  {
   "cell_type": "code",
   "execution_count": null,
   "metadata": {},
   "outputs": [],
   "source": [
    "#the data types of the data\n",
    "understanding.dtypes"
   ]
  },
  {
   "cell_type": "code",
   "execution_count": null,
   "metadata": {},
   "outputs": [],
   "source": [
    "#checking for missing values\n",
    "understanding.missing"
   ]
  },
  {
   "cell_type": "markdown",
   "metadata": {},
   "source": [
    "This dataset has one missing value in the answers column"
   ]
  },
  {
   "cell_type": "code",
   "execution_count": null,
   "metadata": {},
   "outputs": [],
   "source": [
    "#checking for duplicates\n",
    "understanding.duplicates"
   ]
  },
  {
   "cell_type": "markdown",
   "metadata": {},
   "source": [
    "This datset has no duplicates"
   ]
  },
  {
   "cell_type": "markdown",
   "metadata": {},
   "source": [
    "Data preparation"
   ]
  },
  {
   "cell_type": "markdown",
   "metadata": {},
   "source": [
    "Completeness\n",
    "\n",
    "Here we treat on the missing values"
   ]
  },
  {
   "cell_type": "code",
   "execution_count": null,
   "metadata": {},
   "outputs": [],
   "source": [
    "final.dropna(axis=0, how='any', inplace=True)\n",
    "final"
   ]
  },
  {
   "cell_type": "code",
   "execution_count": null,
   "metadata": {},
   "outputs": [],
   "source": [
    "final.isna().sum()"
   ]
  },
  {
   "cell_type": "code",
   "execution_count": null,
   "metadata": {},
   "outputs": [],
   "source": [
    "final['qa'] = final['question'].apply(lambda x:str(x)) + '' + final['answer'].apply(lambda x:str(x))"
   ]
  },
  {
   "cell_type": "code",
   "execution_count": null,
   "metadata": {},
   "outputs": [],
   "source": [
    "final"
   ]
  },
  {
   "cell_type": "code",
   "execution_count": null,
   "metadata": {},
   "outputs": [],
   "source": [
    "final_qalist = final['qa'].to_list()\n",
    "#final_qa[0:5]"
   ]
  },
  {
   "cell_type": "code",
   "execution_count": null,
   "metadata": {
    "collapsed": true
   },
   "outputs": [],
   "source": [
    "# gensim accepts documents as a list of lists, a document is a list, every document contains a list of tokens in the document\n",
    "sentence_stream = [doc.split(\" \") for doc in final_qalist]\n",
    "sentence_stream[0:5]\n"
   ]
  },
  {
   "cell_type": "code",
   "execution_count": null,
   "metadata": {},
   "outputs": [],
   "source": [
    "bigram = Phrases(sentence_stream, min_count=2, threshold=5, delimiter=b' ')\n",
    "bigram_phraser = Phraser(bigram) # faster access, efficient memory utilization"
   ]
  },
  {
   "cell_type": "code",
   "execution_count": null,
   "metadata": {},
   "outputs": [],
   "source": [
    "tokens_list = []\n",
    "for sent in sentence_stream:\n",
    "    tokens_ = bigram_phraser[sent]\n",
    "    tokens_list.append(tokens_)"
   ]
  },
  {
   "cell_type": "code",
   "execution_count": null,
   "metadata": {
    "scrolled": false
   },
   "outputs": [],
   "source": [
    "print(tokens_list[0:3])"
   ]
  },
  {
   "cell_type": "code",
   "execution_count": null,
   "metadata": {},
   "outputs": [],
   "source": [
    "model = Word2Vec(tokens_list, size=200, sg=1, window=5)"
   ]
  },
  {
   "cell_type": "code",
   "execution_count": null,
   "metadata": {},
   "outputs": [],
   "source": [
    "model.wv.most_similar('insulin')\n",
    "\n"
   ]
  }
 ],
 "metadata": {
  "kernelspec": {
   "display_name": "Python (learn-env)",
   "language": "python",
   "name": "learn-env"
  },
  "language_info": {
   "codemirror_mode": {
    "name": "ipython",
    "version": 3
   },
   "file_extension": ".py",
   "mimetype": "text/x-python",
   "name": "python",
   "nbconvert_exporter": "python",
   "pygments_lexer": "ipython3",
   "version": "3.8.5"
  }
 },
 "nbformat": 4,
 "nbformat_minor": 4
}
